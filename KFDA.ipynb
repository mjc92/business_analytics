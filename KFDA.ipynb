{
 "cells": [
  {
   "cell_type": "markdown",
   "metadata": {},
   "source": [
    "# Example - KNN in kernel fisher space\n",
    "\n",
    "이번 튜토리얼에서는 mply 패키지를 이용한 KFDA의 예제와 matplotlib 패키지를 이용한 시각화를 보여드리고자 합니다. Kernel Fisher Discriminant Analysis를 활용하여 K-Nearest Neighbors (KNN) 분석을 하는 것을 보여드리겠습니다."
   ]
  },
  {
   "cell_type": "markdown",
   "metadata": {},
   "source": [
    "## 1. 패키지 선언\n",
    "\n",
    "일단 필요한 패키지들을 불러옵니다.\n",
    "- numpy: 파이썬 내 행렬연산을 돕기 위한 패키지\n",
    "- matplotlib: 그래프로 시각화하기 위해 사용하는 패키지\n",
    "- mlpy: KFDA뿐 아니라 least squares, ridge regression, SVM, KNN, clustering 등 다양한 기계학습 기법들을 쉽게 쓰도록 하기 위한 패키지\n",
    "\n",
    "패키지 선언은 아래처럼 \n",
    "\n",
    "   import \"패키지명\" (as \"줄임\")\n",
    "   \n",
    "으로 사용합니다. \"줄임\" 을 쓰는 것은 코드 내에서 패키지의 함수를 선언할 때마다 풀네임을 치기 번거로워서입니다.\n",
    "\n",
    "가장 윗 줄의 **%pylab inline**은 ipython notebook 특성상 matplotlib을 이용한 그래프를 그릴 때 실시간으로 ipynb 화면에 출력될 수 있도록 합니다. 이를 사용하지 않을 시 에러가 납니다."
   ]
  },
  {
   "cell_type": "code",
   "execution_count": 8,
   "metadata": {
    "collapsed": false
   },
   "outputs": [
    {
     "name": "stdout",
     "output_type": "stream",
     "text": [
      "Populating the interactive namespace from numpy and matplotlib\n"
     ]
    }
   ],
   "source": [
    "%pylab inline\n",
    "import numpy as np\n",
    "import matplotlib.pyplot as plt\n",
    "import mlpy"
   ]
  },
  {
   "cell_type": "markdown",
   "metadata": {},
   "source": [
    "## 2. 데이터 생성\n",
    "\n",
    "1) 난수 생성"
   ]
  },
  {
   "cell_type": "code",
   "execution_count": 9,
   "metadata": {
    "collapsed": true
   },
   "outputs": [],
   "source": [
    "np.random.seed(0)"
   ]
  },
  {
   "cell_type": "markdown",
   "metadata": {},
   "source": [
    "2) 데이터 생성"
   ]
  },
  {
   "cell_type": "markdown",
   "metadata": {},
   "source": [
    "첫번째 카테고리에 해당하는 데이터를 생성하고자 합니다. 이 때 어떤 분포의 데이터를 만들 것인지를 미리 설정합니다\n",
    "- 분포의 평균(mean1) = 1, 4.5\n",
    "- 분포의 공분산(cov11) = [1,1] , [1,2]\n",
    "- 분포에서 추출할 샘플 개수 = 20"
   ]
  },
  {
   "cell_type": "code",
   "execution_count": 11,
   "metadata": {
    "collapsed": true
   },
   "outputs": [],
   "source": [
    "mean1, cov1, n1 = [1, 4.5], [[1,1],[1,2]], 20  # 20 samples of class 1"
   ]
  },
  {
   "cell_type": "markdown",
   "metadata": {},
   "source": [
    "numpy 패키지의 random.multivariate_normal() 함수는 위에서 설정한 mean, cov, n을 받아서 해당 분포를 따르는 샘플들을 랜덤으로 생성합니다. 이를 x1에 저장합니다. 보다시피 20개의 샘플이 생성되었습니다."
   ]
  },
  {
   "cell_type": "code",
   "execution_count": 12,
   "metadata": {
    "collapsed": false
   },
   "outputs": [
    {
     "data": {
      "text/plain": [
       "array([[-0.71096765,  2.2020092 ],\n",
       "       [-1.01067153,  3.88099307],\n",
       "       [-0.07485433,  1.61199012],\n",
       "       [ 0.27137971,  3.14313654],\n",
       "       [ 0.87193879,  4.7754801 ],\n",
       "       [ 0.11291239,  4.77426314],\n",
       "       [ 0.2886543 ,  3.49205604],\n",
       "       [ 0.44700441,  3.99749203],\n",
       "       [-0.16308149,  2.37691662],\n",
       "       [ 1.18271341,  3.79158675],\n",
       "       [ 2.82807522,  8.22626258],\n",
       "       [ 0.65484589,  3.06906161],\n",
       "       [-0.16616332,  0.90339872],\n",
       "       [ 1.05948385,  4.37619908],\n",
       "       [-1.0763475 ,  2.86773401],\n",
       "       [ 0.66938205,  4.40960562],\n",
       "       [ 2.79656199,  5.07833247],\n",
       "       [ 1.21375423,  5.02966085],\n",
       "       [-0.67867626,  3.19732705],\n",
       "       [ 1.48840983,  4.93488551]])"
      ]
     },
     "execution_count": 12,
     "metadata": {},
     "output_type": "execute_result"
    }
   ],
   "source": [
    "x1 = np.random.multivariate_normal(mean1, cov1, n1)\n",
    "x1"
   ]
  },
  {
   "cell_type": "markdown",
   "metadata": {},
   "source": [
    "y1에는 해당 카테고리 레이블(label)이 저장됩니다. 이들이 1번 카테고리라는 것을 의미하기 위해 해당 샘플개수만큼 1을 저장합니다."
   ]
  },
  {
   "cell_type": "code",
   "execution_count": 47,
   "metadata": {
    "collapsed": false
   },
   "outputs": [
    {
     "data": {
      "text/plain": [
       "array([1, 1, 1, 1, 1, 1, 1, 1, 1, 1, 1, 1, 1, 1, 1, 1, 1, 1, 1, 1])"
      ]
     },
     "execution_count": 47,
     "metadata": {},
     "output_type": "execute_result"
    }
   ],
   "source": [
    "y1 = np.ones(n1, dtype=np.int)\n",
    "y1"
   ]
  },
  {
   "cell_type": "markdown",
   "metadata": {},
   "source": [
    "두번째 카테고리의 데이터도 이런 방식으로 생성합니다."
   ]
  },
  {
   "cell_type": "code",
   "execution_count": 14,
   "metadata": {
    "collapsed": false
   },
   "outputs": [],
   "source": [
    "mean2, cov2, n2 = [2.5, 2.5], [[1,1],[1,2]], 30 # 30 samples of class 2\n",
    "x2 = np.random.multivariate_normal(mean2, cov2, n2)\n",
    "y2 = 2 * np.ones(n2, dtype=np.int)"
   ]
  },
  {
   "cell_type": "markdown",
   "metadata": {},
   "source": [
    "이제 x1과 x2, y1과 y2를 각각 합쳐 양쪽 카테고리의 데이터가 다 들어간 x와 y를 만듭니다. numpy 패키지의 concatenate() 함수를 이용하여 두 개의 array들을 하나로 합친 다음, 각각 x와 y에 저장합니다.\n",
    "- x = np.concatenate((x1, x2), axis=0)의 경우, x1와 x2는 합쳐질 array들이고 각각 [20,2]의 크기를 가집니다. axis=0은 이들을 1번 축 기준으로 합친다는 뜻인데, 즉 [20,2]와 [30,2]를 합쳐 [40,2]를 생성한다는 뜻입니다. axis=1로 놓을 경우 가로축으로 합쳐지는데, 이는 우리가 원하는 결과가 아님을 알 수 있습니다."
   ]
  },
  {
   "cell_type": "code",
   "execution_count": 15,
   "metadata": {
    "collapsed": false
   },
   "outputs": [
    {
     "data": {
      "text/plain": [
       "array([[-0.71096765,  2.2020092 ],\n",
       "       [-1.01067153,  3.88099307],\n",
       "       [-0.07485433,  1.61199012],\n",
       "       [ 0.27137971,  3.14313654],\n",
       "       [ 0.87193879,  4.7754801 ],\n",
       "       [ 0.11291239,  4.77426314],\n",
       "       [ 0.2886543 ,  3.49205604],\n",
       "       [ 0.44700441,  3.99749203],\n",
       "       [-0.16308149,  2.37691662],\n",
       "       [ 1.18271341,  3.79158675],\n",
       "       [ 2.82807522,  8.22626258],\n",
       "       [ 0.65484589,  3.06906161],\n",
       "       [-0.16616332,  0.90339872],\n",
       "       [ 1.05948385,  4.37619908],\n",
       "       [-1.0763475 ,  2.86773401],\n",
       "       [ 0.66938205,  4.40960562],\n",
       "       [ 2.79656199,  5.07833247],\n",
       "       [ 1.21375423,  5.02966085],\n",
       "       [-0.67867626,  3.19732705],\n",
       "       [ 1.48840983,  4.93488551],\n",
       "       [ 4.13850004,  3.48181755],\n",
       "       [ 2.9258568 ,  5.48232479],\n",
       "       [ 3.16384533,  3.05913708],\n",
       "       [ 3.15694052,  4.47694681],\n",
       "       [ 3.98470769,  4.65221631],\n",
       "       [ 3.05832267,  3.85821623],\n",
       "       [ 3.55521187,  2.81945231],\n",
       "       [ 2.29878584,  2.67796297],\n",
       "       [ 2.28439818,  2.50672597],\n",
       "       [ 3.23029092,  3.25520771],\n",
       "       [ 3.26105731,  3.3087365 ],\n",
       "       [ 4.09926401,  3.05829662],\n",
       "       [ 2.56030105,  2.12524733],\n",
       "       [ 3.64343051,  4.8941426 ],\n",
       "       [ 3.24448478,  3.76566715],\n",
       "       [ 1.81198819,  1.53840202],\n",
       "       [ 2.17995424,  0.53053027],\n",
       "       [ 2.51777373,  1.72371595],\n",
       "       [ 3.54506358,  3.5104698 ],\n",
       "       [ 2.73549455,  2.9470645 ],\n",
       "       [ 3.01754314,  4.39638744],\n",
       "       [ 2.91153497,  1.35991481],\n",
       "       [ 0.23728914,  1.06760832],\n",
       "       [ 1.59186229,  0.81908799],\n",
       "       [ 2.8564785 ,  4.31637668],\n",
       "       [ 2.20028539,  3.45212194],\n",
       "       [ 1.80938119,  2.53066334],\n",
       "       [ 1.82538914,  2.23908327],\n",
       "       [ 1.55218047,  3.06581246],\n",
       "       [ 2.18070381,  2.45593475]])"
      ]
     },
     "execution_count": 15,
     "metadata": {},
     "output_type": "execute_result"
    }
   ],
   "source": [
    "x = np.concatenate((x1, x2), axis=0) # concatenate the samples\n",
    "y = np.concatenate((y1, y2))\n",
    "x"
   ]
  },
  {
   "cell_type": "markdown",
   "metadata": {},
   "source": [
    "## 3. 모델 생성\n",
    "\n",
    "이제 mlpy 패키지 내의 KFDA 클래스를 생성하고, 이 클래스의 함수들을 이용하여 필요한 연산을 할겁니다. 우선 우리가 사용할 KFDA 모델에서 어떤 커널 함수가 사용될 지를 정의합니다. 사용할 수 있는 커널 함수들은 다음과 같습니다. (http://mlpy.sourceforge.net/docs/3.5/kernel.html#functions 참조)\n",
    "- Linear kernel\n",
    "- Polynomial kernel\n",
    "- Gaussian kernel\n",
    "- Exponential kernel\n",
    "- Sigmoid kernel\n",
    "\n",
    "여기에서는 Gaussian kernel을 사용하겠습니다. K에는 x에다 아래와 같은 함수를 적용했을 시의 값이 저장됩니다."
   ]
  },
  {
   "cell_type": "code",
   "execution_count": 30,
   "metadata": {
    "collapsed": false
   },
   "outputs": [
    {
     "data": {
      "text/latex": [
       "$$K = e^{-||t_i-x_j||^2/ 2 \\sigma^2}$$"
      ],
      "text/plain": [
       "<IPython.core.display.Math object>"
      ]
     },
     "metadata": {},
     "output_type": "display_data"
    }
   ],
   "source": [
    "from IPython.display import display, Math, Latex\n",
    "display(Math(r'K = e^{-||t_i-x_j||^2/ 2 \\sigma^2}'))"
   ]
  },
  {
   "cell_type": "code",
   "execution_count": 18,
   "metadata": {
    "collapsed": false
   },
   "outputs": [],
   "source": [
    "K = mlpy.kernel_gaussian(x, x, sigma=3) # compute the kernel matrix\n",
    "\n",
    "# 위 줄을 주석처리하고 아래에 있는 주석들 중 하나를 지워서 다른 커널을\n",
    "# 사용하셔도 좋습니다\n",
    "\n",
    "# K = mlpy.kernel_linear(x, x) # Linear kernel\n",
    "# K = mlpy.kernel_polynomial(x, x, gamma=1.0) # Polynomial kernel\n",
    "# K = mlpy.kernel_exponential(x, x, sigma=1.0) # Exponential kernel\n",
    "# K = mlpy.kernel_sigmoid(x, x, gamma=1.0) # Linear kernel"
   ]
  },
  {
   "cell_type": "markdown",
   "metadata": {},
   "source": [
    "K는 50개의 값에 대한 각각의 gaussian distance를 계산한 diagonal matrix임을 알 수 있습니다."
   ]
  },
  {
   "cell_type": "code",
   "execution_count": 31,
   "metadata": {
    "collapsed": false
   },
   "outputs": [
    {
     "name": "stdout",
     "output_type": "stream",
     "text": [
      "(50, 50)\n"
     ]
    },
    {
     "data": {
      "text/plain": [
       "array([[ 1.        ,  0.85078101,  0.95904225, ...,  0.6994429 ,\n",
       "         0.72180537,  0.62617552],\n",
       "       [ 0.85078101,  1.        ,  0.71557147, ...,  0.55067135,\n",
       "         0.6691023 ,  0.5073023 ],\n",
       "       [ 0.95904225,  0.71557147,  1.        , ...,  0.80055187,\n",
       "         0.7675964 ,  0.72454582],\n",
       "       ..., \n",
       "       [ 0.6994429 ,  0.55067135,  0.80055187, ...,  1.        ,\n",
       "         0.95875663,  0.9904199 ],\n",
       "       [ 0.72180537,  0.6691023 ,  0.7675964 , ...,  0.95875663,\n",
       "         1.        ,  0.95828439],\n",
       "       [ 0.62617552,  0.5073023 ,  0.72454582, ...,  0.9904199 ,\n",
       "         0.95828439,  1.        ]])"
      ]
     },
     "execution_count": 31,
     "metadata": {},
     "output_type": "execute_result"
    }
   ],
   "source": [
    "print K.shape # K의 모양\n",
    "K # K에 저장된 결과값"
   ]
  },
  {
   "cell_type": "markdown",
   "metadata": {},
   "source": [
    "이제 kfda라는 이름의 KFDA 클래스를 생성합니다. 파라미터로는 lambda값만 받겠습니다."
   ]
  },
  {
   "cell_type": "code",
   "execution_count": 32,
   "metadata": {
    "collapsed": true
   },
   "outputs": [],
   "source": [
    "kfda = mlpy.KFDA(lmb=0.01)"
   ]
  },
  {
   "cell_type": "markdown",
   "metadata": {},
   "source": [
    "생성되기만 하고 아무 값도 안 저장되어 있는 이 커널 클래스에, gaussian function을 적용한 결과 K와 각 값의 클래스 y를 인자로 주고, 학습을 시킵니다. KFDA의 learn 함수는 인자들을 토대로 transformation vector를 학습합니다."
   ]
  },
  {
   "cell_type": "code",
   "execution_count": 35,
   "metadata": {
    "collapsed": true
   },
   "outputs": [],
   "source": [
    "kfda.learn(K, y) # compute the transformation vector"
   ]
  },
  {
   "cell_type": "markdown",
   "metadata": {},
   "source": [
    "이제 이 K를 1차원의 저차원 공간으로 embedding합니다. 이 때에는 KFDA 패키지의 transform 함수를 사용하여 결과를 z에 저장합니다."
   ]
  },
  {
   "cell_type": "code",
   "execution_count": 43,
   "metadata": {
    "collapsed": true
   },
   "outputs": [],
   "source": [
    "z = kfda.transform(K) # embedded x into the kernel fisher space"
   ]
  },
  {
   "cell_type": "code",
   "execution_count": 45,
   "metadata": {
    "collapsed": false
   },
   "outputs": [
    {
     "data": {
      "text/plain": [
       "array([[-0.08198457],\n",
       "       [ 0.05555493],\n",
       "       [-0.20727748],\n",
       "       [-0.13649884],\n",
       "       [-0.05740739],\n",
       "       [ 0.04807729],\n",
       "       [-0.10269756],\n",
       "       [-0.07240878],\n",
       "       [-0.14136862],\n",
       "       [-0.22279531],\n",
       "       [-0.07516506],\n",
       "       [-0.20801187],\n",
       "       [-0.22196946],\n",
       "       [-0.13320793],\n",
       "       [-0.00758629],\n",
       "       [-0.0627404 ],\n",
       "       [-0.38367404],\n",
       "       [-0.09097169],\n",
       "       [-0.01502113],\n",
       "       [-0.15244762],\n",
       "       [-0.59313147],\n",
       "       [-0.3635507 ],\n",
       "       [-0.58847151],\n",
       "       [-0.49180126],\n",
       "       [-0.54720418],\n",
       "       [-0.52927451],\n",
       "       [-0.61185656],\n",
       "       [-0.52713206],\n",
       "       [-0.53741522],\n",
       "       [-0.58262842],\n",
       "       [-0.58178959],\n",
       "       [-0.59987242],\n",
       "       [-0.58844194],\n",
       "       [-0.50883058],\n",
       "       [-0.55374059],\n",
       "       [-0.52906679],\n",
       "       [-0.57498861],\n",
       "       [-0.59924518],\n",
       "       [-0.58696381],\n",
       "       [-0.55944329],\n",
       "       [-0.48105371],\n",
       "       [-0.62399245],\n",
       "       [-0.28559134],\n",
       "       [-0.51479925],\n",
       "       [-0.46605914],\n",
       "       [-0.44603826],\n",
       "       [-0.46697877],\n",
       "       [-0.49201059],\n",
       "       [-0.37246956],\n",
       "       [-0.52745793]])"
      ]
     },
     "execution_count": 45,
     "metadata": {},
     "output_type": "execute_result"
    }
   ],
   "source": [
    "z # z에 저장된 값들."
   ]
  },
  {
   "cell_type": "markdown",
   "metadata": {},
   "source": [
    "## 4. K-Nearest Neighbor\n",
    "\n",
    "mlpy 패키지 내의 다른 클래스, KNN을 사용하겠습니다. KFDA와 사용법이 비슷합니다. 우선 KNN 클래스를 선언하고, nearest neighbors의 개수 n을 파라미터로 넣습니다. 선언된 클래스는 knn에 저장됩니다."
   ]
  },
  {
   "cell_type": "code",
   "execution_count": 46,
   "metadata": {
    "collapsed": true
   },
   "outputs": [],
   "source": [
    "knn = mlpy.KNN(k=5)"
   ]
  },
  {
   "cell_type": "markdown",
   "metadata": {},
   "source": [
    "아까 kernel fisher space에 임베딩 되어있는 샘플들(=k)과 각 샘플의 카테고리(=y)를 가지고 KNN을 학습합니다. 이 때 k와 y를 인자로 받는 learn()이라는 함수를 사용합니다."
   ]
  },
  {
   "cell_type": "code",
   "execution_count": 48,
   "metadata": {
    "collapsed": true
   },
   "outputs": [],
   "source": [
    "knn.learn(z, y) # learn KNN in the kernel fisher space"
   ]
  },
  {
   "cell_type": "markdown",
   "metadata": {},
   "source": [
    "## 5. Plotting in Graphs\n",
    "\n",
    "우선 화면에 나타내야 할 x랑 y의 범위를 지정합니다. min() 함수와 max() 함수를 이용하여 x와 y의 최대값을 각각 계산합니다."
   ]
  },
  {
   "cell_type": "code",
   "execution_count": 56,
   "metadata": {
    "collapsed": true
   },
   "outputs": [],
   "source": [
    "xmin, xmax = x[:,0].min()-1, x[:,0].max()+1\n",
    "ymin, ymax = x[:,1].min()-1, x[:,1].max()+1"
   ]
  },
  {
   "cell_type": "code",
   "execution_count": 57,
   "metadata": {
    "collapsed": false
   },
   "outputs": [
    {
     "name": "stdout",
     "output_type": "stream",
     "text": [
      "xmin:  -2.07634749792\n",
      "xmax:  5.13850003668\n",
      "ymin:  -0.469469732828\n",
      "ymax:  9.22626258114\n"
     ]
    }
   ],
   "source": [
    "print \"xmin: \",xmin\n",
    "print \"xmax: \",xmax \n",
    "print \"ymin: \",ymin \n",
    "print \"ymax: \",ymax "
   ]
  },
  {
   "cell_type": "code",
   "execution_count": null,
   "metadata": {
    "collapsed": true
   },
   "outputs": [],
   "source": []
  },
  {
   "cell_type": "code",
   "execution_count": 58,
   "metadata": {
    "collapsed": false
   },
   "outputs": [
    {
     "name": "stdout",
     "output_type": "stream",
     "text": [
      "[[-2.0763475 -2.0263475 -1.9763475 ...,  5.0236525  5.0736525  5.1236525]\n",
      " [-2.0763475 -2.0263475 -1.9763475 ...,  5.0236525  5.0736525  5.1236525]\n",
      " [-2.0763475 -2.0263475 -1.9763475 ...,  5.0236525  5.0736525  5.1236525]\n",
      " ..., \n",
      " [-2.0763475 -2.0263475 -1.9763475 ...,  5.0236525  5.0736525  5.1236525]\n",
      " [-2.0763475 -2.0263475 -1.9763475 ...,  5.0236525  5.0736525  5.1236525]\n",
      " [-2.0763475 -2.0263475 -1.9763475 ...,  5.0236525  5.0736525  5.1236525]] [[-0.46946973 -0.46946973 -0.46946973 ..., -0.46946973 -0.46946973\n",
      "  -0.46946973]\n",
      " [-0.41946973 -0.41946973 -0.41946973 ..., -0.41946973 -0.41946973\n",
      "  -0.41946973]\n",
      " [-0.36946973 -0.36946973 -0.36946973 ..., -0.36946973 -0.36946973\n",
      "  -0.36946973]\n",
      " ..., \n",
      " [ 9.08053027  9.08053027  9.08053027 ...,  9.08053027  9.08053027\n",
      "   9.08053027]\n",
      " [ 9.13053027  9.13053027  9.13053027 ...,  9.13053027  9.13053027\n",
      "   9.13053027]\n",
      " [ 9.18053027  9.18053027  9.18053027 ...,  9.18053027  9.18053027\n",
      "   9.18053027]]\n"
     ]
    }
   ],
   "source": [
    "xx, yy = np.meshgrid(np.arange(xmin, xmax, 0.05), np.arange(ymin, ymax, 0.05))"
   ]
  },
  {
   "cell_type": "code",
   "execution_count": 59,
   "metadata": {
    "collapsed": false
   },
   "outputs": [
    {
     "name": "stdout",
     "output_type": "stream",
     "text": [
      "(194, 145) (194, 145)\n",
      "[[-2.0763475 -2.0263475 -1.9763475 ...,  5.0236525  5.0736525  5.1236525]\n",
      " [-2.0763475 -2.0263475 -1.9763475 ...,  5.0236525  5.0736525  5.1236525]\n",
      " [-2.0763475 -2.0263475 -1.9763475 ...,  5.0236525  5.0736525  5.1236525]\n",
      " ..., \n",
      " [-2.0763475 -2.0263475 -1.9763475 ...,  5.0236525  5.0736525  5.1236525]\n",
      " [-2.0763475 -2.0263475 -1.9763475 ...,  5.0236525  5.0736525  5.1236525]\n",
      " [-2.0763475 -2.0263475 -1.9763475 ...,  5.0236525  5.0736525  5.1236525]] [[-0.46946973 -0.46946973 -0.46946973 ..., -0.46946973 -0.46946973\n",
      "  -0.46946973]\n",
      " [-0.41946973 -0.41946973 -0.41946973 ..., -0.41946973 -0.41946973\n",
      "  -0.41946973]\n",
      " [-0.36946973 -0.36946973 -0.36946973 ..., -0.36946973 -0.36946973\n",
      "  -0.36946973]\n",
      " ..., \n",
      " [ 9.08053027  9.08053027  9.08053027 ...,  9.08053027  9.08053027\n",
      "   9.08053027]\n",
      " [ 9.13053027  9.13053027  9.13053027 ...,  9.13053027  9.13053027\n",
      "   9.13053027]\n",
      " [ 9.18053027  9.18053027  9.18053027 ...,  9.18053027  9.18053027\n",
      "   9.18053027]]\n"
     ]
    }
   ],
   "source": [
    "print xx.shape, yy.shape\n",
    "print xx,yy"
   ]
  },
  {
   "cell_type": "code",
   "execution_count": 34,
   "metadata": {
    "collapsed": false
   },
   "outputs": [
    {
     "data": {
      "image/png": "[encoded data removed]",
      "text/plain": [
       "<matplotlib.figure.Figure at 0x7fa46c1bd1d0>"
      ]
     },
     "metadata": {},
     "output_type": "display_data"
    }
   ],
   "source": [
    "\n",
    "xx, yy = np.meshgrid(np.arange(xmin, xmax, 0.05), np.arange(ymin, ymax, 0.05))\n",
    "xt = np.c_[xx.ravel(), yy.ravel()]\n",
    "Kt = mlpy.kernel_gaussian(xt, x, sigma=3) # compute the kernel matrix Kt\n",
    "zt = kfda.transform(Kt) # embedded xt into the kernel fisher space\n",
    "yt = knn.pred(zt).reshape(xx.shape) # perform the KNN prediction in the kernel fisher space\n",
    "plt.figure(1)\n",
    "cmap = plt.set_cmap(plt.cm.Paired)\n",
    "plot1 = plt.pcolormesh(xx, yy, yt)\n",
    "plot2 = plt.scatter(x[:,0], x[:,1], c=y)\n",
    "plt.show()"
   ]
  },
  {
   "cell_type": "code",
   "execution_count": null,
   "metadata": {
    "collapsed": true
   },
   "outputs": [],
   "source": []
  }
 ],
 "metadata": {
  "kernelspec": {
   "display_name": "Python [Root]",
   "language": "python",
   "name": "Python [Root]"
  },
  "language_info": {
   "codemirror_mode": {
    "name": "ipython",
    "version": 2
   },
   "file_extension": ".py",
   "mimetype": "text/x-python",
   "name": "python",
   "nbconvert_exporter": "python",
   "pygments_lexer": "ipython2",
   "version": "2.7.12"
  }
 },
 "nbformat": 4,
 "nbformat_minor": 0
}
