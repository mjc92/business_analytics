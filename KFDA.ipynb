{
 "cells": [
  {
   "cell_type": "markdown",
   "metadata": {},
   "source": [
    "# Example - KNN in kernel fisher space\n",
    "\n",
    "이번 튜토리얼에서는 mply 패키지를 이용한 KFDA의 예제와 matplotlib 패키지를 이용한 시각화를 보여드리고자 합니다. Kernel Fisher Discriminant Analysis를 활용하여 K-Nearest Neighbors (KNN) 분석을 하는 것을 보여드리겠습니다."
   ]
  },
  {
   "cell_type": "markdown",
   "metadata": {},
   "source": [
    "## 1. 패키지 선언\n",
    "\n",
    "일단 필요한 패키지들을 불러옵니다.\n",
    "- numpy: 파이썬 내 행렬연산을 돕기 위한 패키지\n",
    "- matplotlib: 그래프로 시각화하기 위해 사용하는 패키지\n",
    "- mlpy: KFDA뿐 아니라 least squares, ridge regression, SVM, KNN, clustering 등 다양한 기계학습 기법들을 쉽게 쓰도록 하기 위한 패키지\n",
    "\n",
    "패키지 선언은 아래처럼 \n",
    "\n",
    "   import \"패키지명\" (as \"줄임\")\n",
    "   \n",
    "으로 사용합니다. \"줄임\" 을 쓰는 것은 코드 내에서 패키지의 함수를 선언할 때마다 풀네임을 치기 번거로워서입니다.\n",
    "\n",
    "가장 윗 줄의 **%pylab inline**은 ipython notebook 특성상 matplotlib을 이용한 그래프를 그릴 때 실시간으로 ipynb 화면에 출력될 수 있도록 합니다. 이를 사용하지 않을 시 에러가 납니다."
   ]
  },
  {
   "cell_type": "code",
   "execution_count": 1,
   "metadata": {
    "collapsed": false
   },
   "outputs": [
    {
     "name": "stdout",
     "output_type": "stream",
     "text": [
      "Populating the interactive namespace from numpy and matplotlib\n"
     ]
    }
   ],
   "source": [
    "%pylab inline\n",
    "import numpy as np\n",
    "import pandas as pd\n",
    "import matplotlib.pyplot as plt\n",
    "import mlpy"
   ]
  },
  {
   "cell_type": "markdown",
   "metadata": {},
   "source": [
    "## 2. 데이터 생성\n",
    "\n",
    "1) 난수 생성"
   ]
  },
  {
   "cell_type": "code",
   "execution_count": 2,
   "metadata": {
    "collapsed": true
   },
   "outputs": [],
   "source": [
    "np.random.seed(0)"
   ]
  },
  {
   "cell_type": "markdown",
   "metadata": {},
   "source": [
    "2) 데이터 생성"
   ]
  },
  {
   "cell_type": "markdown",
   "metadata": {},
   "source": [
    "첫번째 카테고리에 해당하는 데이터를 생성하고자 합니다. 이 때 어떤 분포의 데이터를 만들 것인지를 미리 설정합니다\n",
    "- 분포의 평균(mean1) = 1, 4.5\n",
    "- 분포의 공분산(cov11) = [1,1] , [1,2]\n",
    "- 분포에서 추출할 샘플 개수 = 20"
   ]
  },
  {
   "cell_type": "code",
   "execution_count": 3,
   "metadata": {
    "collapsed": true
   },
   "outputs": [],
   "source": [
    "mean1, cov1, n1 = [1, 4.5], [[1,1],[1,2]], 20  # 20 samples of class 1"
   ]
  },
  {
   "cell_type": "markdown",
   "metadata": {},
   "source": [
    "numpy 패키지의 random.multivariate_normal() 함수는 위에서 설정한 mean, cov, n을 받아서 해당 분포를 따르는 샘플들을 랜덤으로 생성합니다. 이를 x1에 저장합니다. 보다시피 20개의 샘플이 생성되었습니다."
   ]
  },
  {
   "cell_type": "code",
   "execution_count": 4,
   "metadata": {
    "collapsed": false
   },
   "outputs": [
    {
     "data": {
      "text/plain": [
       "array([[-0.71096765,  2.2020092 ],\n",
       "       [-1.01067153,  3.88099307],\n",
       "       [-0.07485433,  1.61199012],\n",
       "       [ 0.27137971,  3.14313654],\n",
       "       [ 0.87193879,  4.7754801 ],\n",
       "       [ 0.11291239,  4.77426314],\n",
       "       [ 0.2886543 ,  3.49205604],\n",
       "       [ 0.44700441,  3.99749203],\n",
       "       [-0.16308149,  2.37691662],\n",
       "       [ 1.18271341,  3.79158675],\n",
       "       [ 2.82807522,  8.22626258],\n",
       "       [ 0.65484589,  3.06906161],\n",
       "       [-0.16616332,  0.90339872],\n",
       "       [ 1.05948385,  4.37619908],\n",
       "       [-1.0763475 ,  2.86773401],\n",
       "       [ 0.66938205,  4.40960562],\n",
       "       [ 2.79656199,  5.07833247],\n",
       "       [ 1.21375423,  5.02966085],\n",
       "       [-0.67867626,  3.19732705],\n",
       "       [ 1.48840983,  4.93488551]])"
      ]
     },
     "execution_count": 4,
     "metadata": {},
     "output_type": "execute_result"
    }
   ],
   "source": [
    "x1 = np.random.multivariate_normal(mean1, cov1, n1)\n",
    "x1"
   ]
  },
  {
   "cell_type": "markdown",
   "metadata": {},
   "source": [
    "y1에는 해당 카테고리 레이블(label)이 저장됩니다. 이들이 1번 카테고리라는 것을 의미하기 위해 해당 샘플개수만큼 1을 저장합니다."
   ]
  },
  {
   "cell_type": "code",
   "execution_count": 5,
   "metadata": {
    "collapsed": false
   },
   "outputs": [
    {
     "data": {
      "text/plain": [
       "array([1, 1, 1, 1, 1, 1, 1, 1, 1, 1, 1, 1, 1, 1, 1, 1, 1, 1, 1, 1])"
      ]
     },
     "execution_count": 5,
     "metadata": {},
     "output_type": "execute_result"
    }
   ],
   "source": [
    "y1 = np.ones(n1, dtype=np.int)\n",
    "y1"
   ]
  },
  {
   "cell_type": "markdown",
   "metadata": {},
   "source": [
    "두번째 카테고리의 데이터도 이런 방식으로 생성합니다."
   ]
  },
  {
   "cell_type": "code",
   "execution_count": 6,
   "metadata": {
    "collapsed": false
   },
   "outputs": [],
   "source": [
    "mean2, cov2, n2 = [2.5, 2.5], [[1,1],[1,2]], 30 # 30 samples of class 2\n",
    "x2 = np.random.multivariate_normal(mean2, cov2, n2)\n",
    "y2 = 2 * np.ones(n2, dtype=np.int)"
   ]
  },
  {
   "cell_type": "markdown",
   "metadata": {},
   "source": [
    "이제 x1과 x2, y1과 y2를 각각 합쳐 양쪽 카테고리의 데이터가 다 들어간 x와 y를 만듭니다. numpy 패키지의 concatenate() 함수를 이용하여 두 개의 array들을 하나로 합친 다음, 각각 x와 y에 저장합니다.\n",
    "- x = np.concatenate((x1, x2), axis=0)의 경우, x1와 x2는 합쳐질 array들이고 각각 [20,2]의 크기를 가집니다. axis=0은 이들을 1번 축 기준으로 합친다는 뜻인데, 즉 [20,2]와 [30,2]를 합쳐 [40,2]를 생성한다는 뜻입니다. axis=1로 놓을 경우 가로축으로 합쳐지는데, 이는 우리가 원하는 결과가 아님을 알 수 있습니다."
   ]
  },
  {
   "cell_type": "code",
   "execution_count": 7,
   "metadata": {
    "collapsed": false
   },
   "outputs": [],
   "source": [
    "x = np.concatenate((x1, x2), axis=0) # concatenate the samples\n",
    "y = np.concatenate((y1, y2))"
   ]
  },
  {
   "cell_type": "code",
   "execution_count": 8,
   "metadata": {
    "collapsed": false
   },
   "outputs": [],
   "source": [
    "df = pd.read_csv('phy_train.dat', sep='\\s+', header=None, skiprows=0)\n",
    "arr = df.as_matrix()"
   ]
  },
  {
   "cell_type": "markdown",
   "metadata": {},
   "source": [
    "## 3. 모델 생성\n",
    "\n",
    "이제 mlpy 패키지 내의 KFDA 클래스를 생성하고, 이 클래스의 함수들을 이용하여 필요한 연산을 할겁니다. 우선 우리가 사용할 KFDA 모델에서 어떤 커널 함수가 사용될 지를 정의합니다. 사용할 수 있는 커널 함수들은 다음과 같습니다. (http://mlpy.sourceforge.net/docs/3.5/kernel.html#functions 참조)\n",
    "- Linear kernel\n",
    "- Polynomial kernel\n",
    "- Gaussian kernel\n",
    "- Exponential kernel\n",
    "- Sigmoid kernel\n",
    "\n",
    "여기에서는 Gaussian kernel을 사용하겠습니다. K에는 x에다 아래와 같은 함수를 적용했을 시의 값이 저장됩니다."
   ]
  },
  {
   "cell_type": "code",
   "execution_count": 8,
   "metadata": {
    "collapsed": false
   },
   "outputs": [
    {
     "data": {
      "text/latex": [
       "$$K = e^{-||t_i-x_j||^2/ 2 \\sigma^2}$$"
      ],
      "text/plain": [
       "<IPython.core.display.Math object>"
      ]
     },
     "metadata": {},
     "output_type": "display_data"
    }
   ],
   "source": [
    "from IPython.display import display, Math, Latex\n",
    "display(Math(r'K = e^{-||t_i-x_j||^2/ 2 \\sigma^2}'))"
   ]
  },
  {
   "cell_type": "code",
   "execution_count": 9,
   "metadata": {
    "collapsed": false
   },
   "outputs": [],
   "source": [
    "K = mlpy.kernel_gaussian(x, x, sigma=1) # compute the kernel matrix\n",
    "\n",
    "# 위 줄을 주석처리하고 아래에 있는 주석들 중 하나를 지워서 다른 커널을\n",
    "# 사용하셔도 좋습니다\n",
    "\n",
    "# K = mlpy.kernel_linear(x, x) # Linear kernel\n",
    "# K = mlpy.kernel_polynomial(x, x, gamma=1.0) # Polynomial kernel\n",
    "# K = mlpy.kernel_sigmoid(x, x, gamma=1.0) # Linear kernel"
   ]
  },
  {
   "cell_type": "markdown",
   "metadata": {},
   "source": [
    "K는 50개의 값에 대한 각각의 gaussian distance를 계산한 diagonal matrix임을 알 수 있습니다."
   ]
  },
  {
   "cell_type": "code",
   "execution_count": 10,
   "metadata": {
    "collapsed": false
   },
   "outputs": [
    {
     "name": "stdout",
     "output_type": "stream",
     "text": [
      "(50, 50)\n"
     ]
    },
    {
     "data": {
      "text/plain": [
       "array([[ 1.        ,  0.23353937,  0.68634055, ...,  0.04006548,\n",
       "         0.053184  ,  0.0148001 ],\n",
       "       [ 0.23353937,  1.        ,  0.04919004, ...,  0.00465621,\n",
       "         0.02688021,  0.00222537],\n",
       "       [ 0.68634055,  0.04919004,  1.        , ...,  0.13505333,\n",
       "         0.09251164,  0.05502913],\n",
       "       ..., \n",
       "       [ 0.04006548,  0.00465621,  0.13505333, ...,  1.        ,\n",
       "         0.68450313,  0.91701033],\n",
       "       [ 0.053184  ,  0.02688021,  0.09251164, ...,  0.68450313,\n",
       "         1.        ,  0.68147466],\n",
       "       [ 0.0148001 ,  0.00222537,  0.05502913, ...,  0.91701033,\n",
       "         0.68147466,  1.        ]])"
      ]
     },
     "execution_count": 10,
     "metadata": {},
     "output_type": "execute_result"
    }
   ],
   "source": [
    "print K.shape # K의 모양\n",
    "K # K에 저장된 결과값"
   ]
  },
  {
   "cell_type": "markdown",
   "metadata": {},
   "source": [
    "이제 kfda라는 이름의 KFDA 클래스를 생성합니다. 파라미터로는 lambda값만 받겠습니다."
   ]
  },
  {
   "cell_type": "code",
   "execution_count": 11,
   "metadata": {
    "collapsed": true
   },
   "outputs": [],
   "source": [
    "kfda = mlpy.KFDA(lmb=0.01)"
   ]
  },
  {
   "cell_type": "markdown",
   "metadata": {},
   "source": [
    "생성되기만 하고 아무 값도 안 저장되어 있는 이 커널 클래스에, gaussian function을 적용한 결과 K와 각 값의 클래스 y를 인자로 주고, 학습을 시킵니다. KFDA의 learn 함수는 인자들을 토대로 transformation vector를 학습합니다."
   ]
  },
  {
   "cell_type": "code",
   "execution_count": 12,
   "metadata": {
    "collapsed": true
   },
   "outputs": [],
   "source": [
    "kfda.learn(K, y) # compute the transformation vector"
   ]
  },
  {
   "cell_type": "markdown",
   "metadata": {},
   "source": [
    "이제 이 K를 1차원의 저차원 공간으로 embedding합니다. 이 때에는 KFDA 패키지의 transform 함수를 사용하여 결과를 z에 저장합니다. matplotlib(plt로 선언)을 이용해서 우리의 kernel fisher space에 있는 값들이 분류가 잘 되어있는지 색깔로 확인합니다."
   ]
  },
  {
   "cell_type": "code",
   "execution_count": 13,
   "metadata": {
    "collapsed": true
   },
   "outputs": [],
   "source": [
    "z = kfda.transform(K) # embedded x into the kernel fisher space"
   ]
  },
  {
   "cell_type": "code",
   "execution_count": 14,
   "metadata": {
    "collapsed": false
   },
   "outputs": [
    {
     "data": {
      "text/plain": [
       "<matplotlib.collections.PathCollection at 0x7ff734bf3310>"
      ]
     },
     "execution_count": 14,
     "metadata": {},
     "output_type": "execute_result"
    },
    {
     "data": {
      "image/png": "[encoded data removed]",
      "text/plain": [
       "<matplotlib.figure.Figure at 0x7ff7370f5650>"
      ]
     },
     "metadata": {},
     "output_type": "display_data"
    }
   ],
   "source": [
    "plt.figure(figsize=(12,4))\n",
    "tmp=np.zeros((len(z),1))\n",
    "plt.scatter(z[y==1], tmp[y==1], marker = '.', color = 'r', alpha = 0.5, s = 100)\n",
    "plt.scatter(z[y==2], tmp[y==2], marker = '.', color = 'b', alpha = 0.5, s = 100)"
   ]
  },
  {
   "cell_type": "markdown",
   "metadata": {},
   "source": [
    "## 4. Plotting classifier region with K-Nearest Neighbor\n",
    "\n",
    "우리가 만든 kernel fisher space가 2차원에서는 어떤 영역을 나타내는지를 표현하기 위해 현존하는 classifier를 사용해야 하기 때문에, KNN(K-Nearest Neighbors) 알고리즘을 사용합니다. mlpy 패키지 내의 다른 클래스, KNN을 사용하겠습니다. KFDA와 사용법이 비슷한데, 우선 KNN 클래스를 선언하고, nearest neighbors의 개수 n을 파라미터로 넣습니다. 선언된 클래스는 knn에 저장됩니다."
   ]
  },
  {
   "cell_type": "code",
   "execution_count": 15,
   "metadata": {
    "collapsed": true
   },
   "outputs": [],
   "source": [
    "knn = mlpy.KNN(k=5)"
   ]
  },
  {
   "cell_type": "markdown",
   "metadata": {},
   "source": [
    "아까 우리가 kernel fisher space에 임베딩 되어있는 샘플들(=z)과 각 샘플의 카테고리(=y)를 가지고 KNN을 학습합니다. 이 때 z와 y를 인자로 받는 learn()이라는 함수를 사용합니다."
   ]
  },
  {
   "cell_type": "code",
   "execution_count": 16,
   "metadata": {
    "collapsed": true
   },
   "outputs": [],
   "source": [
    "knn.learn(z, y) # learn KNN in the kernel fisher space"
   ]
  },
  {
   "cell_type": "markdown",
   "metadata": {},
   "source": [
    "우선 화면에 나타내야 할 x랑 y의 범위를 지정합니다. min() 함수와 max() 함수를 이용하여 x와 y의 최대값을 각각 계산합니다. np.meshrid([a,b,c])함수는 a에서 b까지 c의 간격만큼 숫자가 저장된 벡터를 반환하는데, 이걸로 x축과 y축에 걸쳐 그래프에서 사용될 점들을 만듭니다."
   ]
  },
  {
   "cell_type": "code",
   "execution_count": 17,
   "metadata": {
    "collapsed": true
   },
   "outputs": [],
   "source": [
    "xmin, xmax = x[:,0].min()-1, x[:,0].max()+1\n",
    "ymin, ymax = x[:,1].min()-1, x[:,1].max()+1\n",
    "xx, yy = np.meshgrid(np.arange(xmin, xmax, 0.05), np.arange(ymin, ymax, 0.05))"
   ]
  },
  {
   "cell_type": "code",
   "execution_count": 18,
   "metadata": {
    "collapsed": false
   },
   "outputs": [
    {
     "name": "stdout",
     "output_type": "stream",
     "text": [
      "xmin:  -2.07634749792\n",
      "xmax:  5.13850003668\n",
      "ymin:  -0.469469732828\n",
      "ymax:  9.22626258114\n",
      "Number of points: (194, 145)\n"
     ]
    }
   ],
   "source": [
    "print \"xmin: \",xmin\n",
    "print \"xmax: \",xmax \n",
    "print \"ymin: \",ymin \n",
    "print \"ymax: \",ymax \n",
    "print \"Number of points:\", xx.shape"
   ]
  },
  {
   "cell_type": "code",
   "execution_count": 19,
   "metadata": {
    "collapsed": false
   },
   "outputs": [
    {
     "data": {
      "text/plain": [
       "array([[-2.0763475 , -0.46946973],\n",
       "       [-2.0263475 , -0.46946973],\n",
       "       [-1.9763475 , -0.46946973],\n",
       "       [-1.9263475 , -0.46946973],\n",
       "       [-1.8763475 , -0.46946973],\n",
       "       [-1.8263475 , -0.46946973],\n",
       "       [-1.7763475 , -0.46946973],\n",
       "       [-1.7263475 , -0.46946973],\n",
       "       [-1.6763475 , -0.46946973],\n",
       "       [-1.6263475 , -0.46946973]])"
      ]
     },
     "execution_count": 19,
     "metadata": {},
     "output_type": "execute_result"
    }
   ],
   "source": [
    "xt = np.c_[xx.ravel(), yy.ravel()]\n",
    "xt[0:10]"
   ]
  },
  {
   "cell_type": "markdown",
   "metadata": {},
   "source": [
    "이 점들 역시 아까와 동일한 커널을 이용해서 아까의 kfda 모델을 통해 학습한 kernel fisher space에 투영합니다."
   ]
  },
  {
   "cell_type": "code",
   "execution_count": 20,
   "metadata": {
    "collapsed": false
   },
   "outputs": [],
   "source": [
    "Kt = mlpy.kernel_gaussian(xt, x, sigma=1) # compute the kernel matrix Kt\n",
    "\n",
    "# 역시 위에서 kernel을 바꿨다면 다음 함수도 위에와 동일하게끔 바꿔줘야 합니다.\n",
    "# Kt = mlpy.kernel_linear(xt, x) # Linear kernel\n",
    "# Kt = mlpy.kernel_polynomial(xt, x, gamma=1.0) # Polynomial kernel\n",
    "# Kt = mlpy.kernel_sigmoid(xt, x, gamma=1.0) # Linear kernel\n",
    "\n",
    "zt = kfda.transform(Kt) # embedded xt into the kernel fisher space"
   ]
  },
  {
   "cell_type": "markdown",
   "metadata": {},
   "source": [
    "이 투영한 값들을 가지고 1차원에서 knn을 통해 어떤 그룹에 속하는지를 계산한 다음, 1차원에서 원래 차원으로 재배치합니다."
   ]
  },
  {
   "cell_type": "code",
   "execution_count": 21,
   "metadata": {
    "collapsed": false
   },
   "outputs": [],
   "source": [
    "yt = knn.pred(zt).reshape(xx.shape) # predict class of points in kernel fisher space"
   ]
  },
  {
   "cell_type": "markdown",
   "metadata": {},
   "source": [
    "이 자료들을 갖고 원래의 점들과 classifier의 구분 영역을 모두 출력합니다."
   ]
  },
  {
   "cell_type": "code",
   "execution_count": 22,
   "metadata": {
    "collapsed": false
   },
   "outputs": [
    {
     "data": {
      "image/png": "[encoded data removed]",
      "text/plain": [
       "<matplotlib.figure.Figure at 0x7ff739e4a310>"
      ]
     },
     "metadata": {},
     "output_type": "display_data"
    }
   ],
   "source": [
    "plt.figure(1)\n",
    "cmap = plt.set_cmap(plt.cm.Paired)\n",
    "plot1 = plt.pcolormesh(xx, yy, yt)\n",
    "plot2 = plt.scatter(x[:,0], x[:,1], c=y)\n",
    "plt.show()"
   ]
  }
 ],
 "metadata": {
  "kernelspec": {
   "display_name": "Python [Root]",
   "language": "python",
   "name": "Python [Root]"
  },
  "language_info": {
   "codemirror_mode": {
    "name": "ipython",
    "version": 2
   },
   "file_extension": ".py",
   "mimetype": "text/x-python",
   "name": "python",
   "nbconvert_exporter": "python",
   "pygments_lexer": "ipython2",
   "version": "2.7.12"
  }
 },
 "nbformat": 4,
 "nbformat_minor": 0
}
