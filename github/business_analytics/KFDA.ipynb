{
 "cells": [
  {
   "cell_type": "code",
   "execution_count": 5,
   "metadata": {
    "collapsed": false
   },
   "outputs": [
    {
     "name": "stdout",
     "output_type": "stream",
     "text": [
      "Populating the interactive namespace from numpy and matplotlib\n"
     ]
    }
   ],
   "source": [
    "%pylab inline\n",
    "import numpy as np\n",
    "import matplotlib.pyplot as plt\n",
    "import mlpy"
   ]
  },
  {
   "cell_type": "code",
   "execution_count": 6,
   "metadata": {
    "collapsed": false
   },
   "outputs": [],
   "source": [
    "np.random.seed(0)\n",
    "mean1, cov1, n1 = [1, 4.5], [[1,1],[1,2]], 20  # 20 samples of class 1\n",
    "x1 = np.random.multivariate_normal(mean1, cov1, n1)\n",
    "y1 = np.ones(n1, dtype=np.int)\n",
    "mean2, cov2, n2 = [2.5, 2.5], [[1,1],[1,2]], 30 # 30 samples of class 2\n",
    "x2 = np.random.multivariate_normal(mean2, cov2, n2)\n",
    "y2 = 2 * np.ones(n2, dtype=np.int)\n",
    "x = np.concatenate((x1, x2), axis=0) # concatenate the samples\n",
    "y = np.concatenate((y1, y2))\n",
    "K = mlpy.kernel_gaussian(x, x, sigma=3) # compute the kernel matrix"
   ]
  },
  {
   "cell_type": "code",
   "execution_count": 7,
   "metadata": {
    "collapsed": false
   },
   "outputs": [
    {
     "data": {
      "image/png": "[encoded data removed]",
      "text/plain": [
       "<matplotlib.figure.Figure at 0x7fa46c255690>"
      ]
     },
     "metadata": {},
     "output_type": "display_data"
    }
   ],
   "source": [
    "kfda = mlpy.KFDA(lmb=0.01)\n",
    "kfda.learn(K, y) # compute the tranformation vector\n",
    "z = kfda.transform(K) # embedded x into the kernel fisher space\n",
    "knn = mlpy.KNN(k=5)\n",
    "knn.learn(z, y) # learn KNN in the kernel fisher space\n",
    "xmin, xmax = x[:,0].min()-1, x[:,0].max()+1\n",
    "ymin, ymax = x[:,1].min()-1, x[:,1].max()+1\n",
    "xx, yy = np.meshgrid(np.arange(xmin, xmax, 0.05), np.arange(ymin, ymax, 0.05))\n",
    "xt = np.c_[xx.ravel(), yy.ravel()]\n",
    "Kt = mlpy.kernel_gaussian(xt, x, sigma=3) # compute the kernel matrix Kt\n",
    "zt = kfda.transform(Kt) # embedded xt into the kernel fisher space\n",
    "yt = knn.pred(zt).reshape(xx.shape) # perform the KNN prediction in the kernel fisher space\n",
    "plt.figure(1)\n",
    "cmap = plt.set_cmap(plt.cm.Paired)\n",
    "plot1 = plt.pcolormesh(xx, yy, yt)\n",
    "plot2 = plt.scatter(x[:,0], x[:,1], c=y)\n",
    "plt.show()"
   ]
  },
  {
   "cell_type": "code",
   "execution_count": null,
   "metadata": {
    "collapsed": true
   },
   "outputs": [],
   "source": []
  }
 ],
 "metadata": {
  "kernelspec": {
   "display_name": "Python [Root]",
   "language": "python",
   "name": "Python [Root]"
  },
  "language_info": {
   "codemirror_mode": {
    "name": "ipython",
    "version": 2
   },
   "file_extension": ".py",
   "mimetype": "text/x-python",
   "name": "python",
   "nbconvert_exporter": "python",
   "pygments_lexer": "ipython2",
   "version": "2.7.12"
  }
 },
 "nbformat": 4,
 "nbformat_minor": 0
}
